{
 "cells": [
  {
   "cell_type": "code",
   "execution_count": 51,
   "id": "4d25023d-9c14-42b9-912f-5c460f293560",
   "metadata": {},
   "outputs": [],
   "source": [
    "import importlib\n",
    "import multifunctions \n",
    "importlib.reload(multifunctions)\n",
    "instance = multifunctions.MultipleFunction() "
   ]
  },
  {
   "cell_type": "code",
   "execution_count": 52,
   "id": "065472df-c575-40fd-9427-929cd66d9f8c",
   "metadata": {},
   "outputs": [
    {
     "name": "stdout",
     "output_type": "stream",
     "text": [
      "Sub-fields in AI are:\n",
      "Machine Learning\n",
      "Neural Networks\n",
      "Vision\n",
      "Robotics\n",
      "Speech Processing\n",
      "Natural Language Processing\n"
     ]
    }
   ],
   "source": [
    "print(instance.subfields())"
   ]
  },
  {
   "cell_type": "code",
   "execution_count": 53,
   "id": "6b60e92c-a77a-428e-b1ee-d7ec7c0d484e",
   "metadata": {},
   "outputs": [
    {
     "name": "stdin",
     "output_type": "stream",
     "text": [
      "Enter a Number:  15\n"
     ]
    },
    {
     "name": "stdout",
     "output_type": "stream",
     "text": [
      "15 is an odd number\n"
     ]
    }
   ],
   "source": [
    "print(instance.OddEven())"
   ]
  },
  {
   "cell_type": "code",
   "execution_count": 54,
   "id": "7c862c9d-e2d6-493e-b3c1-5c1e399ecc66",
   "metadata": {},
   "outputs": [
    {
     "name": "stdout",
     "output_type": "stream",
     "text": [
      "Your age is 5\n",
      "NOT ELIGIBALE\n"
     ]
    }
   ],
   "source": [
    "print(instance.Elegible(5))"
   ]
  },
  {
   "cell_type": "code",
   "execution_count": 55,
   "id": "049eefec-ac98-4752-b22c-52c4a6af4ef6",
   "metadata": {},
   "outputs": [
    {
     "name": "stdout",
     "output_type": "stream",
     "text": [
      "Subject1 = 5\n",
      "Subject2 = 4\n",
      "Subject3 = 3\n",
      "Subject4 = 2\n",
      "Subject5 = 3\n",
      "Total: 17\n",
      "3.4000000000000004\n"
     ]
    }
   ],
   "source": [
    "print(instance.percentage(5,4,3,2,3))"
   ]
  },
  {
   "cell_type": "code",
   "execution_count": 56,
   "id": "295d439c-443b-40c4-8535-8d7031ea131f",
   "metadata": {},
   "outputs": [
    {
     "name": "stdout",
     "output_type": "stream",
     "text": [
      "Height: 10\n",
      "Breadth: 20\n",
      "Area formula: (Height * Breadth) / 2\n",
      "Area of Triangle: 100.0\n"
     ]
    }
   ],
   "source": [
    "instance.area(10,20)"
   ]
  },
  {
   "cell_type": "code",
   "execution_count": 57,
   "id": "c52f8f1d-4c3b-4ce1-bae1-21bebf8128c5",
   "metadata": {},
   "outputs": [
    {
     "name": "stdout",
     "output_type": "stream",
     "text": [
      "Height1: 10\n",
      "Height2: 20\n",
      "Breadth: 30\n",
      "Perimeter formula: Height1 + Height2 + Breadth\n",
      "Perimeter of Triangle: 60\n"
     ]
    }
   ],
   "source": [
    "instance.perimeter(10,20,30)"
   ]
  },
  {
   "cell_type": "code",
   "execution_count": null,
   "id": "f7285502-356d-4906-9a01-e702bfb034ff",
   "metadata": {},
   "outputs": [],
   "source": []
  }
 ],
 "metadata": {
  "kernelspec": {
   "display_name": "Python 3 (ipykernel)",
   "language": "python",
   "name": "python3"
  },
  "language_info": {
   "codemirror_mode": {
    "name": "ipython",
    "version": 3
   },
   "file_extension": ".py",
   "mimetype": "text/x-python",
   "name": "python",
   "nbconvert_exporter": "python",
   "pygments_lexer": "ipython3",
   "version": "3.9.19"
  }
 },
 "nbformat": 4,
 "nbformat_minor": 5
}
