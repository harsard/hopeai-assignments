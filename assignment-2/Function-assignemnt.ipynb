{
 "cells": [
  {
   "cell_type": "code",
   "execution_count": 3,
   "id": "144dbff8-88b8-43c0-9284-e4212e626e38",
   "metadata": {},
   "outputs": [],
   "source": [
    "def subfields():\n",
    "    message = (\n",
    "        \"Sub-fields in AI are:\\n\"\n",
    "        \"Machine Learning\\n\"\n",
    "        \"Neural Networks\\n\"\n",
    "        \"Vision\\n\"\n",
    "        \"Robotics\\n\"\n",
    "        \"Speech Processing\\n\"\n",
    "        \"Natural Language Processing\"\n",
    "    )\n",
    "    return message"
   ]
  },
  {
   "cell_type": "code",
   "execution_count": 5,
   "id": "c7593102-4bcc-4bd0-81eb-7b038f144c98",
   "metadata": {},
   "outputs": [
    {
     "name": "stdout",
     "output_type": "stream",
     "text": [
      "Sub-fields in AI are:\n",
      "Machine Learning\n",
      "Neural Networks\n",
      "Vision\n",
      "Robotics\n",
      "Speech Processing\n",
      "Natural Language Processing\n"
     ]
    }
   ],
   "source": [
    "print(subfields())"
   ]
  },
  {
   "cell_type": "code",
   "execution_count": 13,
   "id": "89f3f47b-dc33-46b0-bdbd-0c972632f409",
   "metadata": {},
   "outputs": [],
   "source": [
    "def OddEven():\n",
    "    num = int(input(\"Enter a Number\"))\n",
    "    if num % 1 == 1:\n",
    "        message = f\"{num} is and odd number\"\n",
    "    else:    \n",
    "        message = f\"{num} is and Even number\"\n",
    "    return message    "
   ]
  },
  {
   "cell_type": "code",
   "execution_count": 16,
   "id": "c14fcd6a-969c-4b59-aaa1-b022af9fc65c",
   "metadata": {},
   "outputs": [
    {
     "name": "stdin",
     "output_type": "stream",
     "text": [
      "Enter a Number 52452\n"
     ]
    },
    {
     "name": "stdout",
     "output_type": "stream",
     "text": [
      "52452 is and Even number\n"
     ]
    }
   ],
   "source": [
    "print(OddEven())"
   ]
  },
  {
   "cell_type": "code",
   "execution_count": 28,
   "id": "70e6763f-c8aa-4db5-a0e3-4e7d8eff2539",
   "metadata": {},
   "outputs": [],
   "source": [
    "def Elegible(age):\n",
    "    print(f\"Your age is {age}\")\n",
    "    if age < 21:\n",
    "        message = \"NOT ELIGIBALE\"\n",
    "    else:\n",
    "        message = \"ELIGIBLE\"\n",
    "    return message"
   ]
  },
  {
   "cell_type": "code",
   "execution_count": 29,
   "id": "e9e11256-2eb3-4447-a654-a47432b5cb12",
   "metadata": {},
   "outputs": [
    {
     "name": "stdout",
     "output_type": "stream",
     "text": [
      "Your age is 20\n",
      "NOT ELIGIBALE\n"
     ]
    }
   ],
   "source": [
    "print(Elegible(20))"
   ]
  },
  {
   "cell_type": "code",
   "execution_count": 45,
   "id": "c6fd53e3-a308-4166-b305-2b224bda66e3",
   "metadata": {},
   "outputs": [],
   "source": [
    "def percentage(sub1, sub2, sub3, sub4, sub5):\n",
    "    print(f\"Subject1 = {sub1}\")\n",
    "    print(f\"Subject2 = {sub2}\")\n",
    "    print(f\"Subject3 = {sub3}\")\n",
    "    print(f\"Subject4 = {sub4}\")\n",
    "    print(f\"Subject5 = {sub5}\")\n",
    "    total = sub1 + sub2 + sub3 + sub4 + sub5\n",
    "    print(f\"Total: {total}\")\n",
    "    percentage = (total / 500) * 100\n",
    "    return percentage\n",
    "    \n",
    "    "
   ]
  },
  {
   "cell_type": "code",
   "execution_count": 47,
   "id": "d2141154-2b8d-4e16-a047-556c120fe7ce",
   "metadata": {},
   "outputs": [
    {
     "name": "stdout",
     "output_type": "stream",
     "text": [
      "Subject1 = 98\n",
      "Subject2 = 87\n",
      "Subject3 = 95\n",
      "Subject4 = 95\n",
      "Subject5 = 93\n",
      "Total: 468\n",
      "Percentage: 93.60000000000001\n"
     ]
    }
   ],
   "source": [
    "percentage = percentage(98, 87, 95, 95, 93)\n",
    "print(f\"Percentage: {percentage}\")"
   ]
  },
  {
   "cell_type": "code",
   "execution_count": 64,
   "id": "868b471e-179d-49ac-af3c-f01103733a75",
   "metadata": {},
   "outputs": [],
   "source": [
    "def area(height, breadth):\n",
    "    print(f\"Height: {height}\")\n",
    "    print(f\"Breadth: {breadth}\")\n",
    "    print(\"Area formula: (Height * Breadth) / 2\")\n",
    "    area = (height * breadth) / 2\n",
    "    print(f\"Area of Triangle: {area}\")\n",
    "\n",
    "def perimeter(height1, height2, breadth):\n",
    "    print(f\"Height1: {height1}\")\n",
    "    print(f\"Height2: {height2}\")\n",
    "    print(f\"Breadth: {breadth}\")\n",
    "    print(\"Perimeter formula: Height1 + Height2 + Breadth\")\n",
    "    perimeter = height1 + height2 + breadth\n",
    "    print(f\"Perimeter of Triangle: {perimeter}\")\n",
    "    "
   ]
  },
  {
   "cell_type": "code",
   "execution_count": 65,
   "id": "6585baf2-76f2-4bf3-8c90-0b953b4a1848",
   "metadata": {},
   "outputs": [
    {
     "name": "stdout",
     "output_type": "stream",
     "text": [
      "Height: 32\n",
      "Breadth: 34\n",
      "Area formula: (Height * Breadth) / 2\n",
      "Area of Triangle: 544.0\n",
      "Height1: 2\n",
      "Height2: 4\n",
      "Breadth: 4\n",
      "Perimeter formula: Height1 + Height2 + Breadth\n",
      "Perimeter of Triangle: 10\n"
     ]
    }
   ],
   "source": [
    "area(32,34)\n",
    "perimeter(2,4,4)"
   ]
  },
  {
   "cell_type": "code",
   "execution_count": null,
   "id": "ad9f8215-2ab5-4e9c-8edb-afd88102e9a8",
   "metadata": {},
   "outputs": [],
   "source": []
  }
 ],
 "metadata": {
  "kernelspec": {
   "display_name": "Python 3 (ipykernel)",
   "language": "python",
   "name": "python3"
  },
  "language_info": {
   "codemirror_mode": {
    "name": "ipython",
    "version": 3
   },
   "file_extension": ".py",
   "mimetype": "text/x-python",
   "name": "python",
   "nbconvert_exporter": "python",
   "pygments_lexer": "ipython3",
   "version": "3.9.19"
  }
 },
 "nbformat": 4,
 "nbformat_minor": 5
}
