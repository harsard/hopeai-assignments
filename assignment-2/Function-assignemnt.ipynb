{
  "metadata": {
    "kernelspec": {
      "name": "python",
      "display_name": "Python (Pyodide)",
      "language": "python"
    },
    "language_info": {
      "codemirror_mode": {
        "name": "python",
        "version": 3
      },
      "file_extension": ".py",
      "mimetype": "text/x-python",
      "name": "python",
      "nbconvert_exporter": "python",
      "pygments_lexer": "ipython3",
      "version": "3.8"
    }
  },
  "nbformat_minor": 5,
  "nbformat": 4,
  "cells": [
    {
      "id": "144dbff8-88b8-43c0-9284-e4212e626e38",
      "cell_type": "code",
      "source": "def subfields():\n    subfields_list = [\n        \"Machine Learning\",\n        \"Neural Networks\",\n        \"Vision\",\n        \"Robotics\",\n        \"Speech Processing\",\n        \"Natural Language Processing\"\n    ]\n    message = \"Sub-fields in AI are:\\n\"\n    for subfield in subfields_list:\n        message += f\"{subfield}\\n\"\n        \n    return message",
      "metadata": {
        "trusted": true
      },
      "outputs": [],
      "execution_count": 6
    },
    {
      "id": "c7593102-4bcc-4bd0-81eb-7b038f144c98",
      "cell_type": "code",
      "source": "print(subfields())",
      "metadata": {
        "trusted": true
      },
      "outputs": [
        {
          "name": "stdout",
          "text": "Sub-fields in AI are:\nMachine Learning\nNeural Networks\nVision\nRobotics\nSpeech Processing\nNatural Language Processing\n\n",
          "output_type": "stream"
        }
      ],
      "execution_count": 7
    },
    {
      "id": "89f3f47b-dc33-46b0-bdbd-0c972632f409",
      "cell_type": "code",
      "source": "def OddEven():\n    num = int(input(\"Enter a Number\"))\n    if num % 1 == 1:\n        message = f\"{num} is and odd number\"\n    else:    \n        message = f\"{num} is and Even number\"\n    return message    ",
      "metadata": {},
      "outputs": [],
      "execution_count": 13
    },
    {
      "id": "c14fcd6a-969c-4b59-aaa1-b022af9fc65c",
      "cell_type": "code",
      "source": "print(OddEven())",
      "metadata": {},
      "outputs": [
        {
          "name": "stdin",
          "output_type": "stream",
          "text": [
            "Enter a Number 52452\n"
          ]
        },
        {
          "name": "stdout",
          "output_type": "stream",
          "text": [
            "52452 is and Even number\n"
          ]
        }
      ],
      "execution_count": 16
    },
    {
      "id": "70e6763f-c8aa-4db5-a0e3-4e7d8eff2539",
      "cell_type": "code",
      "source": "def Elegible(age):\n    print(f\"Your age is {age}\")\n    if age < 21:\n        message = \"NOT ELIGIBALE\"\n    else:\n        message = \"ELIGIBLE\"\n    return message",
      "metadata": {},
      "outputs": [],
      "execution_count": 28
    },
    {
      "id": "e9e11256-2eb3-4447-a654-a47432b5cb12",
      "cell_type": "code",
      "source": "print(Elegible(20))",
      "metadata": {},
      "outputs": [
        {
          "name": "stdout",
          "output_type": "stream",
          "text": [
            "Your age is 20\n",
            "NOT ELIGIBALE\n"
          ]
        }
      ],
      "execution_count": 29
    },
    {
      "id": "c6fd53e3-a308-4166-b305-2b224bda66e3",
      "cell_type": "code",
      "source": "def percentage(sub1, sub2, sub3, sub4, sub5):\n    print(f\"Subject1 = {sub1}\")\n    print(f\"Subject2 = {sub2}\")\n    print(f\"Subject3 = {sub3}\")\n    print(f\"Subject4 = {sub4}\")\n    print(f\"Subject5 = {sub5}\")\n    total = sub1 + sub2 + sub3 + sub4 + sub5\n    print(f\"Total: {total}\")\n    percentage = (total / 500) * 100\n    return percentage\n    \n    ",
      "metadata": {},
      "outputs": [],
      "execution_count": 45
    },
    {
      "id": "d2141154-2b8d-4e16-a047-556c120fe7ce",
      "cell_type": "code",
      "source": "percentage = percentage(98, 87, 95, 95, 93)\nprint(f\"Percentage: {percentage}\")",
      "metadata": {},
      "outputs": [
        {
          "name": "stdout",
          "output_type": "stream",
          "text": [
            "Subject1 = 98\n",
            "Subject2 = 87\n",
            "Subject3 = 95\n",
            "Subject4 = 95\n",
            "Subject5 = 93\n",
            "Total: 468\n",
            "Percentage: 93.60000000000001\n"
          ]
        }
      ],
      "execution_count": 47
    },
    {
      "id": "868b471e-179d-49ac-af3c-f01103733a75",
      "cell_type": "code",
      "source": "def area(height, breadth):\n    print(f\"Height: {height}\")\n    print(f\"Breadth: {breadth}\")\n    print(\"Area formula: (Height * Breadth) / 2\")\n    area = (height * breadth) / 2\n    print(f\"Area of Triangle: {area}\")\n\ndef perimeter(height1, height2, breadth):\n    print(f\"Height1: {height1}\")\n    print(f\"Height2: {height2}\")\n    print(f\"Breadth: {breadth}\")\n    print(\"Perimeter formula: Height1 + Height2 + Breadth\")\n    perimeter = height1 + height2 + breadth\n    print(f\"Perimeter of Triangle: {perimeter}\")\n    ",
      "metadata": {},
      "outputs": [],
      "execution_count": 64
    },
    {
      "id": "6585baf2-76f2-4bf3-8c90-0b953b4a1848",
      "cell_type": "code",
      "source": "area(32,34)\nperimeter(2,4,4)",
      "metadata": {},
      "outputs": [
        {
          "name": "stdout",
          "output_type": "stream",
          "text": [
            "Height: 32\n",
            "Breadth: 34\n",
            "Area formula: (Height * Breadth) / 2\n",
            "Area of Triangle: 544.0\n",
            "Height1: 2\n",
            "Height2: 4\n",
            "Breadth: 4\n",
            "Perimeter formula: Height1 + Height2 + Breadth\n",
            "Perimeter of Triangle: 10\n"
          ]
        }
      ],
      "execution_count": 65
    },
    {
      "id": "ad9f8215-2ab5-4e9c-8edb-afd88102e9a8",
      "cell_type": "code",
      "source": "",
      "metadata": {},
      "outputs": [],
      "execution_count": null
    }
  ]
}