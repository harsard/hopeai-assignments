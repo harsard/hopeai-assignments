{
 "cells": [
  {
   "cell_type": "code",
   "execution_count": 61,
   "id": "a2a24cf6-a77d-43c4-b9ff-86bfea963ec4",
   "metadata": {},
   "outputs": [
    {
     "name": "stdin",
     "output_type": "stream",
     "text": [
      "Value:  10\n"
     ]
    },
    {
     "name": "stdout",
     "output_type": "stream",
     "text": [
      "correct\n"
     ]
    }
   ],
   "source": [
    "num= int(input(\"Value: \"))\n",
    "if num == 10:\n",
    "    print(\"correct\")"
   ]
  },
  {
   "cell_type": "code",
   "execution_count": 47,
   "id": "43323223-21ce-4708-8374-47c1f167b3b5",
   "metadata": {},
   "outputs": [
    {
     "name": "stdin",
     "output_type": "stream",
     "text": [
      "Enter the password HOPE@123\n"
     ]
    },
    {
     "name": "stdout",
     "output_type": "stream",
     "text": [
      "Your password is correct\n"
     ]
    }
   ],
   "source": [
    "password=\"HOPE@123\"\n",
    "\n",
    "if password == (input(\"Enter the password\")):\n",
    "    print(\"Your password is correct\")"
   ]
  },
  {
   "cell_type": "code",
   "execution_count": 62,
   "id": "d8fb23d6-98be-451d-b834-b778833d051e",
   "metadata": {},
   "outputs": [
    {
     "name": "stdin",
     "output_type": "stream",
     "text": [
      "age:  20\n"
     ]
    },
    {
     "name": "stdout",
     "output_type": "stream",
     "text": [
      "Adult\n"
     ]
    }
   ],
   "source": [
    "age=int(input(\"age: \"))\n",
    "if age <= 10:\n",
    "    print(\"Children\")\n",
    "elif age <= 20:\n",
    "    print(\"Adult\")\n",
    "elif age <=50:\n",
    "    print(\"Citizen\")\n",
    "else:\n",
    "    print(\"Senior citizen\")"
   ]
  },
  {
   "cell_type": "code",
   "execution_count": 60,
   "id": "f7e887e9-d3f2-44dc-8fa2-c4ff26dd3333",
   "metadata": {},
   "outputs": [
    {
     "name": "stdin",
     "output_type": "stream",
     "text": [
      "Enter any number:  1\n"
     ]
    },
    {
     "name": "stdout",
     "output_type": "stream",
     "text": [
      "No is positive\n"
     ]
    }
   ],
   "source": [
    "num= int(input(\"Enter any number: \"))\n",
    "if num > 0:\n",
    "    print(\"No is positive\")"
   ]
  },
  {
   "cell_type": "code",
   "execution_count": 65,
   "id": "bf7fff0a-54d4-46e6-91af-30f6e0a18583",
   "metadata": {},
   "outputs": [
    {
     "name": "stdin",
     "output_type": "stream",
     "text": [
      "Enter the number to check: 22\n"
     ]
    },
    {
     "name": "stdout",
     "output_type": "stream",
     "text": [
      "No is not divisable by 5\n"
     ]
    }
   ],
   "source": [
    "num=int(input(\"Enter the number to check:\"))\n",
    "if num % 5 != 0:\n",
    "    print(\"No is not divisable by 5\")"
   ]
  },
  {
   "cell_type": "code",
   "execution_count": null,
   "id": "0db9442f-28db-4293-9df1-14fb4fd93cc9",
   "metadata": {},
   "outputs": [],
   "source": []
  }
 ],
 "metadata": {
  "kernelspec": {
   "display_name": "Python 3 (ipykernel)",
   "language": "python",
   "name": "python3"
  },
  "language_info": {
   "codemirror_mode": {
    "name": "ipython",
    "version": 3
   },
   "file_extension": ".py",
   "mimetype": "text/x-python",
   "name": "python",
   "nbconvert_exporter": "python",
   "pygments_lexer": "ipython3",
   "version": "3.12.1"
  }
 },
 "nbformat": 4,
 "nbformat_minor": 5
}
