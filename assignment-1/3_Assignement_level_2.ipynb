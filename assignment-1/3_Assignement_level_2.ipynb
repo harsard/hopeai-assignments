{
 "cells": [
  {
   "cell_type": "code",
   "execution_count": 8,
   "id": "4b81bb12-c2d6-49bd-a807-6f9452d78432",
   "metadata": {},
   "outputs": [
    {
     "name": "stdout",
     "output_type": "stream",
     "text": [
      "0\n",
      "1\n",
      "2\n",
      "3\n",
      "4\n",
      "5\n",
      "6\n",
      "7\n",
      "8\n",
      "9\n",
      "10\n",
      "11\n",
      "12\n",
      "13\n",
      "14\n",
      "15\n",
      "16\n",
      "17\n",
      "18\n",
      "19\n"
     ]
    }
   ],
   "source": [
    "for n in range(20):\n",
    "    print(n)"
   ]
  },
  {
   "cell_type": "code",
   "execution_count": 12,
   "id": "899a173c-b250-479e-a2bf-e9fe464baa3e",
   "metadata": {},
   "outputs": [
    {
     "name": "stdout",
     "output_type": "stream",
     "text": [
      "10 11 12 13 14 15 16 17 18 19 "
     ]
    }
   ],
   "source": [
    "for i in range(10,20):\n",
    "    print(i,end=\" \")"
   ]
  },
  {
   "cell_type": "code",
   "execution_count": 14,
   "id": "93977bf7-d48c-4e49-9d0b-1022b785109c",
   "metadata": {},
   "outputs": [
    {
     "name": "stdout",
     "output_type": "stream",
     "text": [
      "7\n"
     ]
    }
   ],
   "source": [
    "print(len([11,24,34,55,21,45,77]))"
   ]
  },
  {
   "cell_type": "code",
   "execution_count": 17,
   "id": "89651a33-8a22-4139-86b6-3e1dccf79e67",
   "metadata": {},
   "outputs": [
    {
     "name": "stdout",
     "output_type": "stream",
     "text": [
      "Artificial Intelligence\n",
      "A\n",
      "r\n",
      "t\n",
      "i\n",
      "f\n",
      "i\n",
      "c\n",
      "i\n",
      "a\n",
      "l\n",
      " \n",
      "I\n",
      "n\n",
      "t\n",
      "e\n",
      "l\n",
      "l\n",
      "i\n",
      "g\n",
      "e\n",
      "n\n",
      "c\n",
      "e\n"
     ]
    }
   ],
   "source": [
    "word = \"Artificial Intelligence\"\n",
    "print(word)\n",
    "for c in word:\n",
    "    print(c)"
   ]
  },
  {
   "cell_type": "code",
   "execution_count": 18,
   "id": "173d1241-110d-4972-8536-f1d9ae15c31d",
   "metadata": {},
   "outputs": [
    {
     "name": "stdout",
     "output_type": "stream",
     "text": [
      "-Your name-\n",
      "-Your age-\n",
      "-Your profession-\n"
     ]
    }
   ],
   "source": [
    "print(\"-Your name-\")\n",
    "print(\"-Your age-\")\n",
    "print(\"-Your profession-\")"
   ]
  },
  {
   "cell_type": "code",
   "execution_count": 27,
   "id": "5d0c38d9-a569-4f6f-a988-c7e9bf95db91",
   "metadata": {},
   "outputs": [
    {
     "name": "stdout",
     "output_type": "stream",
     "text": [
      "(1, 'Welcome', 2, 'Hope')\n"
     ]
    }
   ],
   "source": [
    "menu=(1, \"Welcome\",2, \"Hope\")\n",
    "print(menu)\n"
   ]
  },
  {
   "cell_type": "code",
   "execution_count": 28,
   "id": "b372a21d-08e8-4c1f-b534-fe574583dde3",
   "metadata": {},
   "outputs": [
    {
     "name": "stdout",
     "output_type": "stream",
     "text": [
      "((0, 1, 2, 3), ('python', 'HOPE'))\n"
     ]
    }
   ],
   "source": [
    "tuple = ((0,1,2,3),(\"python\",\"HOPE\"))\n",
    "print(tuple)"
   ]
  },
  {
   "cell_type": "code",
   "execution_count": 30,
   "id": "a3d81996-b2ce-4407-a6e1-55c0783763fd",
   "metadata": {},
   "outputs": [
    {
     "name": "stdout",
     "output_type": "stream",
     "text": [
      "[32, 12, 45, 67, 34, 47]\n",
      "45 is odd\n",
      "67 is odd\n",
      "47 is odd\n"
     ]
    }
   ],
   "source": [
    "list=[32,12,45,67,34,47]\n",
    "print(list)\n",
    "for i in list:\n",
    "    if i%2 == 1:\n",
    "        print(i,\"is odd\")"
   ]
  },
  {
   "cell_type": "code",
   "execution_count": 2,
   "id": "6148d22d-5ca3-4594-8b9c-4a123b250b22",
   "metadata": {},
   "outputs": [
    {
     "name": "stdout",
     "output_type": "stream",
     "text": [
      "[56, 11, 5, 23, 54, 8]\n",
      "56 is even\n",
      "54 is even\n",
      "8 is even\n"
     ]
    }
   ],
   "source": [
    "list=[56,11,5,23,54,8]\n",
    "print(list)\n",
    "for i in list:\n",
    "    if i % 2 == 0:\n",
    "        print(i,\"is even\")\n",
    "    "
   ]
  },
  {
   "cell_type": "code",
   "execution_count": null,
   "id": "99a1cf97-ad75-48e1-9e4c-27c622c20c1b",
   "metadata": {},
   "outputs": [],
   "source": []
  }
 ],
 "metadata": {
  "kernelspec": {
   "display_name": "Python 3 (ipykernel)",
   "language": "python",
   "name": "python3"
  },
  "language_info": {
   "codemirror_mode": {
    "name": "ipython",
    "version": 3
   },
   "file_extension": ".py",
   "mimetype": "text/x-python",
   "name": "python",
   "nbconvert_exporter": "python",
   "pygments_lexer": "ipython3",
   "version": "3.12.1"
  }
 },
 "nbformat": 4,
 "nbformat_minor": 5
}
