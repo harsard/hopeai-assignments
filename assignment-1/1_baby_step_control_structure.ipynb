{
 "cells": [
  {
   "cell_type": "code",
   "execution_count": 2,
   "id": "20212d4f-f51a-4b1a-b6f6-5e3025bd55df",
   "metadata": {},
   "outputs": [
    {
     "name": "stdout",
     "output_type": "stream",
     "text": [
      "Welcome to Assignment-1\n"
     ]
    }
   ],
   "source": [
    "print(\"Welcome to Assignment-1\")"
   ]
  },
  {
   "cell_type": "code",
   "execution_count": 3,
   "id": "f30225d3-b166-4d4c-b3ba-7b6be23e505c",
   "metadata": {},
   "outputs": [
    {
     "name": "stdin",
     "output_type": "stream",
     "text": [
      "Enter the first number:  10\n"
     ]
    }
   ],
   "source": [
    "num1 = int(input(\"Enter the first number: \"))"
   ]
  },
  {
   "cell_type": "code",
   "execution_count": 4,
   "id": "8c4b9628-608d-41d2-a792-b2c11cd9ebca",
   "metadata": {},
   "outputs": [
    {
     "name": "stdin",
     "output_type": "stream",
     "text": [
      "Enter the second number:  20\n"
     ]
    }
   ],
   "source": [
    "num2 = int(input(\"Enter the second number: \"))"
   ]
  },
  {
   "cell_type": "code",
   "execution_count": 5,
   "id": "d6b54b21-2982-4d6e-b201-d22a3a32ca9b",
   "metadata": {},
   "outputs": [
    {
     "name": "stdout",
     "output_type": "stream",
     "text": [
      "Num1=  10\n",
      "Num2=  20\n",
      "Add=  30\n"
     ]
    }
   ],
   "source": [
    "print(\"Num1= \", num1)\n",
    "print(\"Num2= \", num2)\n",
    "print(\"Add= \", num1 + num2)\n"
   ]
  },
  {
   "cell_type": "code",
   "execution_count": 6,
   "id": "d1d4a44b-2ccf-428c-96da-980b383a7788",
   "metadata": {},
   "outputs": [
    {
     "name": "stdin",
     "output_type": "stream",
     "text": [
      "Enter the BMI Index:  45\n"
     ]
    }
   ],
   "source": [
    "bmi_index = float(input(\"Enter the BMI Index: \"))\n"
   ]
  },
  {
   "cell_type": "code",
   "execution_count": 7,
   "id": "e05d8ed7-28f6-47a5-8e6e-53b527eddbca",
   "metadata": {},
   "outputs": [
    {
     "name": "stdout",
     "output_type": "stream",
     "text": [
      "Very overweight\n"
     ]
    }
   ],
   "source": [
    "if bmi_index < 18.5:\n",
    "    print(\"Underweight\")\n",
    "elif bmi_index < 25:\n",
    "    print(\"Normal\")\n",
    "elif bmi_index < 30:\n",
    "    print(\"Overweight\")\n",
    "else:\n",
    "    print(\"Very overweight\")"
   ]
  },
  {
   "cell_type": "code",
   "execution_count": null,
   "id": "be8c1168-cb51-4bb5-8cf9-46748b0cff98",
   "metadata": {},
   "outputs": [],
   "source": []
  }
 ],
 "metadata": {
  "kernelspec": {
   "display_name": "Python 3 (ipykernel)",
   "language": "python",
   "name": "python3"
  },
  "language_info": {
   "codemirror_mode": {
    "name": "ipython",
    "version": 3
   },
   "file_extension": ".py",
   "mimetype": "text/x-python",
   "name": "python",
   "nbconvert_exporter": "python",
   "pygments_lexer": "ipython3",
   "version": "3.12.1"
  }
 },
 "nbformat": 4,
 "nbformat_minor": 5
}
