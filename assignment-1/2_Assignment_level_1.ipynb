{
 "cells": [
  {
   "cell_type": "code",
   "execution_count": 1,
   "id": "f869ce31-b018-4ba9-87cc-c0ed6732f311",
   "metadata": {},
   "outputs": [
    {
     "name": "stdout",
     "output_type": "stream",
     "text": [
      "HOPE AI\n"
     ]
    }
   ],
   "source": [
    "print(\"HOPE AI\")\n"
   ]
  },
  {
   "cell_type": "code",
   "execution_count": 2,
   "id": "1bc3d5c3-5e40-4723-a0c3-f0ef17fcf23e",
   "metadata": {},
   "outputs": [
    {
     "name": "stdin",
     "output_type": "stream",
     "text": [
      "Enter your institute name? :  HOPE AI\n"
     ]
    }
   ],
   "source": [
    "input(\"Enter your institute name? : \")"
   ]
  },
  {
   "cell_type": "code",
   "execution_count": 13,
   "id": "ba7fd64c-2d25-46e0-a24a-7706d4df013a",
   "metadata": {},
   "outputs": [
    {
     "name": "stdin",
     "output_type": "stream",
     "text": [
      "Enter your name:  Roshan\n",
      "Enter your age:  20\n",
      "Enter your school name:  National School\n",
      "Enter your degree:  Bsc Cs\n"
     ]
    }
   ],
   "source": [
    "input(\"Enter your name: \")\n",
    "input(\"Enter your age: \")\n",
    "input(\"Enter your school name: \")\n",
    "input(\"Enter your degree: \");\n"
   ]
  },
  {
   "cell_type": "code",
   "execution_count": 19,
   "id": "0942ee75-bebc-42c9-b1cf-5505ddd82493",
   "metadata": {},
   "outputs": [
    {
     "name": "stdout",
     "output_type": "stream",
     "text": [
      "a = 23\n",
      "b = 45\n",
      "add = 68\n"
     ]
    }
   ],
   "source": [
    "a = 23\n",
    "b = 45\n",
    "\n",
    "print(\"a =\", a)\n",
    "print(\"b =\", b)\n",
    "print(\"add =\", a + b)\n"
   ]
  },
  {
   "cell_type": "code",
   "execution_count": 21,
   "id": "d9584835-92ed-4732-97de-6a2fd87b1dff",
   "metadata": {},
   "outputs": [
    {
     "name": "stdout",
     "output_type": "stream",
     "text": [
      "a = 45\n",
      "b = 34\n",
      "sub = 11\n"
     ]
    }
   ],
   "source": [
    "a = 45\n",
    "b = 34\n",
    "\n",
    "print(\"a =\", a)\n",
    "print(\"b =\", b)\n",
    "print(\"sub =\", a - b)"
   ]
  },
  {
   "cell_type": "code",
   "execution_count": 22,
   "id": "6cbd2a5c-68eb-4c52-9590-11dd9bd54a16",
   "metadata": {},
   "outputs": [
    {
     "name": "stdout",
     "output_type": "stream",
     "text": [
      "a = 10\n",
      "b = 5\n",
      "mul = 50\n"
     ]
    }
   ],
   "source": [
    "a = 10\n",
    "b = 5\n",
    "\n",
    "print(\"a =\", a)\n",
    "print(\"b =\", b)\n",
    "print(\"mul =\", a * b)"
   ]
  },
  {
   "cell_type": "code",
   "execution_count": 23,
   "id": "3cdfb06e-9f3b-414b-9071-39494e980b55",
   "metadata": {},
   "outputs": [
    {
     "name": "stdout",
     "output_type": "stream",
     "text": [
      "a = 76\n",
      "b = 31\n",
      "Float Div = 2.4516129032258065\n"
     ]
    }
   ],
   "source": [
    "a = 76\n",
    "b = 31\n",
    "\n",
    "print(\"a =\", a)\n",
    "print(\"b =\", b)\n",
    "print(\"Float Div =\", a / b)"
   ]
  },
  {
   "cell_type": "code",
   "execution_count": 28,
   "id": "ad38dc0c-c266-42a7-99e8-770840ba0181",
   "metadata": {},
   "outputs": [
    {
     "name": "stdout",
     "output_type": "stream",
     "text": [
      "a = 76\n",
      "b = 31\n",
      "sub = 2\n"
     ]
    }
   ],
   "source": [
    "import math\n",
    "\n",
    "a = 76\n",
    "b = 31\n",
    "\n",
    "print(\"a =\", a)\n",
    "print(\"b =\", b)\n",
    "print(\"Floor div =\", math.floor(a / b))"
   ]
  },
  {
   "cell_type": "code",
   "execution_count": 29,
   "id": "de50f14e-cd3e-4507-a617-805a1b88926e",
   "metadata": {},
   "outputs": [
    {
     "name": "stdout",
     "output_type": "stream",
     "text": [
      "a = 76\n",
      "b = 31\n",
      "Modulo = 14\n"
     ]
    }
   ],
   "source": [
    "a = 76\n",
    "b = 31\n",
    "\n",
    "print(\"a =\", a)\n",
    "print(\"b =\", b)\n",
    "print(\"Modulo =\", a % b)"
   ]
  },
  {
   "cell_type": "code",
   "execution_count": 31,
   "id": "3eca4c0c-503d-4644-a80a-d3da58cd1dba",
   "metadata": {},
   "outputs": [
    {
     "name": "stdout",
     "output_type": "stream",
     "text": [
      "a = 4\n",
      "b = 4\n",
      "Power = 256\n"
     ]
    }
   ],
   "source": [
    "a = 4\n",
    "b = 4\n",
    "\n",
    "print(\"a =\", a)\n",
    "print(\"b =\", b)\n",
    "print(\"Power =\", pow(a, b))"
   ]
  },
  {
   "cell_type": "code",
   "execution_count": null,
   "id": "db516451-4fa9-4437-a27f-dfe4e5c4afbb",
   "metadata": {},
   "outputs": [],
   "source": []
  }
 ],
 "metadata": {
  "kernelspec": {
   "display_name": "Python 3 (ipykernel)",
   "language": "python",
   "name": "python3"
  },
  "language_info": {
   "codemirror_mode": {
    "name": "ipython",
    "version": 3
   },
   "file_extension": ".py",
   "mimetype": "text/x-python",
   "name": "python",
   "nbconvert_exporter": "python",
   "pygments_lexer": "ipython3",
   "version": "3.12.1"
  }
 },
 "nbformat": 4,
 "nbformat_minor": 5
}
